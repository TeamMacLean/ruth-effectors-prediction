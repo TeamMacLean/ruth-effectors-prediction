{
 "cells": [
  {
   "cell_type": "code",
   "execution_count": 30,
   "metadata": {},
   "outputs": [],
   "source": [
    "import pandas as pd\n",
    "control_set_data = pd.read_csv('../../data/0002-getting-control-sets/control_set_data_complete.csv', index_col = False)"
   ]
  },
  {
   "cell_type": "code",
   "execution_count": 31,
   "metadata": {},
   "outputs": [],
   "source": [
    "from collections import Counter\n",
    "field_length_sequence = control_set_data.sequence.astype(str).map(len) "
   ]
  },
  {
   "cell_type": "code",
   "execution_count": 32,
   "metadata": {},
   "outputs": [
    {
     "name": "stdout",
     "output_type": "stream",
     "text": [
      "The column with sequence with the maximum length: 1257 with length: 7919\n",
      "The column with sequence with the minimum length: 1288 with length: 11\n"
     ]
    }
   ],
   "source": [
    "print('The column with sequence with the maximum length:', field_length_sequence.idxmax(), 'with length:', field_length_sequence.loc[field_length_sequence.idxmax()])\n",
    "print('The column with sequence with the minimum length:', field_length_sequence.idxmin(), 'with length:', field_length_sequence.loc[field_length_sequence.idxmin()])"
   ]
  },
  {
   "cell_type": "code",
   "execution_count": 33,
   "metadata": {},
   "outputs": [
    {
     "data": {
      "image/png": "[encoded data removed]",
      "text/plain": [
       "<Figure size 432x288 with 1 Axes>"
      ]
     },
     "metadata": {
      "needs_background": "light"
     },
     "output_type": "display_data"
    }
   ],
   "source": [
    "import matplotlib.pyplot as plt\n",
    "import numpy as np\n",
    "%matplotlib inline\n",
    "\n",
    "plt.clf()\n",
    "plt.hist(field_length_sequence, bins = 100)\n",
    "plt.ylabel('Count')\n",
    "plt.show()"
   ]
  },
  {
   "cell_type": "code",
   "execution_count": 35,
   "metadata": {},
   "outputs": [
    {
     "name": "stdout",
     "output_type": "stream",
     "text": [
      "14\n"
     ]
    }
   ],
   "source": [
    "print(len(control_set_data.loc[control_set_data.sequence.astype(str).map(len) > 2500]))"
   ]
  },
  {
   "cell_type": "code",
   "execution_count": 37,
   "metadata": {},
   "outputs": [
    {
     "name": "stdout",
     "output_type": "stream",
     "text": [
      "          protein_id                                           sequence  \\\n",
      "0             P52751  MFSLKTVVLALAAAAFVQAIPAPGEGPSVSMAQQKCGAEKVVSCCN...   \n",
      "1             P49606  MLFTMQFTTRSTVASPEQQHQHQQRSISYSDIELGLERISSRDSNG...   \n",
      "2             O13337  MLASSRQPRHAFVEHHHQLSSSTLHRSGSPQTGTLRQDATTPTLAT...   \n",
      "3             Q01143  MPSLGFLKKKRTRDGNNDNSSQPASPVTPTAAQSFEQAQVLGAPSA...   \n",
      "4             Q99129  MSHDGAMFSQHSVLSPPLLAAIDSQHTFGSYDATGTSNLPQRASVD...   \n",
      "5             Q01168  MNPTITEHDFRFPRRPAAPGRDPGSDSSDDPLPASLRELNSDRQSA...   \n",
      "6             Q92246  MSRANPPSNSSGSRKISFNVSEQYDIQDVVGEGAYGVVCSAIHKPS...   \n",
      "7             Q99101  MRDPGCADAIATRSGPRNQIMVDLLRGWSTEAESGSSSSTALSGLD...   \n",
      "8             Q00298  MKTSAQQLLSALLLPLSVLAAPTGSIEARACSDVTVIFARGTTETG...   \n",
      "9             Q00364  MHFVTSLIAGVAMLATASATVQGGAPVDDLKFAKKFNQNCQQISGG...   \n",
      "10            Q00365  MLFNAAAAAVFAPLLVMGNVLPRNAGNSPGSNRCDASTFNNGQDFD...   \n",
      "11            P87032  MGCGASKVDKEGQARNDAIDAQLKKDRLAQKNEIKMLLLGAGESGK...   \n",
      "12            P87033  MGACLSAEQSHDTPEYKRSKALDRRIKEDEKNLSREVKLLLLGAGE...   \n",
      "13            P87034  MGNCLSSSDQKEAKDRSVAIDKQIEEDSRKFKKECKILLLGSGESG...   \n",
      "14            P87035  MSPSVSSPQLRHTKSNRAISRIDRTDPLALALQPPANEAPADKYAR...   \n",
      "15            O13328  MTRNDALSRFSSITSSSTDSAHSTATVKPLPSTPIASDTRRHSSGS...   \n",
      "16            O13314  MMGACMSASSEESEQKKRSQKIDKDLEEDSKRLRRECKILLLGSGE...   \n",
      "17            O13315  MGCGMSTEEKEGKARNEEIENQLKRDRLQQRNEIKMLLLGAGESGK...   \n",
      "18            O13316  MCFGSRNVHDEAGAARSRELDKAIRADEKRLQKEVKLLLLGAGESG...   \n",
      "19            O13394  MNPFESLPDAARPAQGTRPNRSDGPPPLPPLTIPGSTGRPQNPIFS...   \n",
      "20            Q8J0D1  MSSTRLEQLSYKLFEPGYHNQRPIIVDEELQSPDTVTLAYEEEAAV...   \n",
      "21            Q99079  MSAIPQQPVDYSATHEAAVAAAAAAAAKAATATAGGGASSSQHPAP...   \n",
      "22            O94100  MVQLLSMASGLLALSAIVSAAPAPAPTAAPNPAEALAAIEQRGTAC...   \n",
      "23            O13352  MSDLQGRKIFKVFNQDFIVDERYTVTKELGQGAYGIVCAAVNNQTS...   \n",
      "24            O00094  MVRNIAIAALLPAAFASTLPRDPCSVTDYSGLATAVSSCTNIVLNG...   \n",
      "25            O42620  MASGSKRSSSSLPAGYVEDKSKGPMLRFQESLPRLPVPTLEETAAR...   \n",
      "26            O42621  MASPRWAALARDTNETKVKLALSIDGGDLPPDTHPSLLEAAASGHA...   \n",
      "27            O42624  EEKVATSRERFRQHFGLPESEKLVATYFGHMIRVLPLYGKIYISDR...   \n",
      "28            O42622  MSEAPQARRVGSVDDHSVYDDAKTYYTSEERHNNSRSGPRQRTYSQ...   \n",
      "29            O14448  MSASGFTSPFGANSNPFGSPEERRGVAGSIQPVLEEEEADGIGSEP...   \n",
      "...              ...                                                ...   \n",
      "2359      ETK76856.1  MGNAAPRAQPQSVLDSASQYRTFLMDYTPRSMDMMFGSLIGDGKFL...   \n",
      "2360      ETK73269.1  MDDDAMTSLLFEGQGRAISAATSARSEASTAPSSLNSMDQAAMRTL...   \n",
      "2361      ETK72099.1  MSADQSQQNYQQYGEEDILVTSPTSYALRESIRRSSSSASAEMNPP...   \n",
      "2362      EEY65334.1  MLLHPTRLALLALALVVAISPGAVAEQDTFWISSLFQPAYSYSYSY...   \n",
      "2363      EEY59052.1  MASTQFSYSSARLRRVKYLQFGVFSPEEIRAMSVTKQTKVNDRIIP...   \n",
      "2364      EEY54149.1  MLPAKVKLDTNMTKLAERRTAWTFIRALLWKNWLIKRRHPMATACE...   \n",
      "2365  XP_009529769.1  MPGPDDDAVEQTAAVRTNSSGYGLKAAPSFSTSGLGSVASVNSYRS...   \n",
      "2366  XP_009525799.1  MSSTQFSYSSARLRRVKYLQFGVFSPEEIRAMSVTKQTKVNDRIIP...   \n",
      "2367  XP_009522078.1  MGQHFLFHRDLVAATAVHHAVHARLSSDLQSDLVLLGPQWLRVYRV...   \n",
      "2368  XP_009520906.1  MTTICGAFRQLTSACVSAADSPPALKAGAGSSLSSSRELALFSGPS...   \n",
      "2369  XP_009513875.1  MDQPLTVNAPASPPAPAKRSNLRFVPTLLRKNWLLKRKHPVALFFE...   \n",
      "2370      AGA60312.1  MGLTGAGIIASVVGILGGISLSCGGWSSLSLGARSLFVTTQFLSAF...   \n",
      "2371      AFB20353.1  MGLTGAGIIASVVGILGGISLSCGGWSSLSLGARSLFVTTQFLSAF...   \n",
      "2372      AFB20352.1  MGLTGAGIIASVVGILGGVSLSCGGWSSLSLGARSLFVTTQFLSAF...   \n",
      "2373      AEZ51040.1  MAYRQPPQGGARIPEDDAYYPNETPQAGLLMSDQARYNDTIGAATQ...   \n",
      "2374      AEZ51039.1  MGLTAVNIIAAVAEIIGGLSLAFGGWSALSIGARSLFSTTQFLSGF...   \n",
      "2375      AEZ51038.1  MAHQADEYEMYATPSAMEAEISRRGTENNVRMTEGRPVPQQGYVDP...   \n",
      "2376      AEZ51037.1  MFGRPSDKRSLLDEQQQEADYDLHATPAAVEARPSGAYKEFEITRG...   \n",
      "2377      ACR19254.1  MKVFRYGFIAAFVFATQYTAAINTGTAPGLASGATGGGDTDPVYPT...   \n",
      "2378      ACR19250.1  MGTYKTQVGGYKATAASKFDVASGNFGVGDLGGNSVSQSSGSGAVV...   \n",
      "2379      CBI63255.1  MVNVYRALEKVQLPKGLHHERIQWLYKGPKALPHNGYLLYWMQTSV...   \n",
      "2380  XP_002905302.1  MNIELKFLMWRKRRGSLGGSNTPRESPNLMNSNSLTSTPSSMSITS...   \n",
      "2381  XP_002902518.1  MSPYAKISYASKPVSATAYKAGQGATFLKDFDAAAAPVESDGFCER...   \n",
      "2382  XP_002900670.1  MRANSDAPADATATPFNPLVALQTLLSADVMSVKQRIKAAQQLEEY...   \n",
      "2383  XP_002899681.1  MIRITREELDDRVQRARRENASQSHEESRKERHLRKQRLRSAEARY...   \n",
      "2384  XP_002895253.1  MASTQFSYSSARLRRVKYLQFGVFSPEEIRAMSVTKQTKVNDRIIP...   \n",
      "2385      AAP51073.1  MINDTPAWKALAEHAAEIKSTHLRELLNDDARNAAMRTEQQGIYLD...   \n",
      "2386      ABD60577.1  MEYAELGEDATSATTAQEQNESAQEVEPEALDYVTSQLVRPLSNWE...   \n",
      "2387      ACM46121.1  MSAQDEDKNGDGVYVTKSRSLFSMWLHGKAAPSKAHPAVVFRSADV...   \n",
      "2388      CAI99409.1  MASDAMPVTADAVAIALPTLPPIPPTDQHPIVVPSTSPPSSKVVAS...   \n",
      "\n",
      "                    Pathogen species   category  label  \n",
      "0                 Magnaporthe oryzae      fungi      0  \n",
      "1                    Ustilago maydis      fungi      0  \n",
      "2                 Magnaporthe oryzae      fungi      0  \n",
      "3                 Magnaporthe oryzae      fungi      0  \n",
      "4                    Ustilago maydis      fungi      0  \n",
      "5                 Magnaporthe oryzae      fungi      0  \n",
      "6                 Magnaporthe oryzae      fungi      0  \n",
      "7                    Ustilago maydis      fungi      0  \n",
      "8                   Botrytis cinerea      fungi      0  \n",
      "9                    Passalora fulva      fungi      0  \n",
      "10                   Passalora fulva      fungi      0  \n",
      "11                   Ustilago maydis      fungi      0  \n",
      "12                   Ustilago maydis      fungi      0  \n",
      "13                   Ustilago maydis      fungi      0  \n",
      "14                   Ustilago maydis      fungi      0  \n",
      "15                Magnaporthe oryzae      fungi      0  \n",
      "16                Magnaporthe oryzae      fungi      0  \n",
      "17                Magnaporthe oryzae      fungi      0  \n",
      "18                Magnaporthe oryzae      fungi      0  \n",
      "19                   Ustilago maydis      fungi      0  \n",
      "20                Magnaporthe oryzae      fungi      0  \n",
      "21                   Ustilago maydis      fungi      0  \n",
      "22                  Botrytis cinerea      fungi      0  \n",
      "23                Magnaporthe oryzae      fungi      0  \n",
      "24                Fusarium oxysporum      fungi      0  \n",
      "25                Magnaporthe oryzae      fungi      0  \n",
      "26                Magnaporthe oryzae      fungi      0  \n",
      "27                Magnaporthe oryzae      fungi      0  \n",
      "28                Magnaporthe oryzae      fungi      0  \n",
      "29                Magnaporthe oryzae      fungi      0  \n",
      "...                              ...        ...    ...  \n",
      "2359         Phytophthora parasitica  oomycetes      0  \n",
      "2360         Phytophthora parasitica  oomycetes      0  \n",
      "2361         Phytophthora parasitica  oomycetes      0  \n",
      "2362    Phytophthora infestans T30-4  oomycetes      0  \n",
      "2363    Phytophthora infestans T30-4  oomycetes      0  \n",
      "2364    Phytophthora infestans T30-4  oomycetes      0  \n",
      "2365              Phytophthora sojae  oomycetes      0  \n",
      "2366              Phytophthora sojae  oomycetes      0  \n",
      "2367              Phytophthora sojae  oomycetes      0  \n",
      "2368              Phytophthora sojae  oomycetes      0  \n",
      "2369              Phytophthora sojae  oomycetes      0  \n",
      "2370            Phytophthora capsici  oomycetes      0  \n",
      "2371            Phytophthora capsici  oomycetes      0  \n",
      "2372           Phytophthora cactorum  oomycetes      0  \n",
      "2373          Pythium aphanidermatum  oomycetes      0  \n",
      "2374          Pythium aphanidermatum  oomycetes      0  \n",
      "2375          Pythium aphanidermatum  oomycetes      0  \n",
      "2376          Pythium aphanidermatum  oomycetes      0  \n",
      "2377            Phytophthora capsici  oomycetes      0  \n",
      "2378            Phytophthora capsici  oomycetes      0  \n",
      "2379  Hyaloperonospora arabidopsidis  oomycetes      0  \n",
      "2380    Phytophthora infestans T30-4  oomycetes      0  \n",
      "2381    Phytophthora infestans T30-4  oomycetes      0  \n",
      "2382    Phytophthora infestans T30-4  oomycetes      0  \n",
      "2383    Phytophthora infestans T30-4  oomycetes      0  \n",
      "2384    Phytophthora infestans T30-4  oomycetes      0  \n",
      "2385           Phytophthora cactorum  oomycetes      0  \n",
      "2386          Phytophthora infestans  oomycetes      0  \n",
      "2387            Phytophthora capsici  oomycetes      0  \n",
      "2388          Pythium aphanidermatum  oomycetes      0  \n",
      "\n",
      "[2375 rows x 5 columns]\n"
     ]
    }
   ],
   "source": [
    "control_data_set = control_set_data.loc[control_set_data.sequence.astype(str).map(len) <= 2500]\n",
    "print(control_data_set)"
   ]
  },
  {
   "cell_type": "code",
   "execution_count": 38,
   "metadata": {},
   "outputs": [],
   "source": [
    "control_data_set_without_id = control_data_set[['sequence', 'category', 'label']]"
   ]
  },
  {
   "cell_type": "code",
   "execution_count": 47,
   "metadata": {},
   "outputs": [],
   "source": [
    "# separate each column \n",
    "\n",
    "input_control_data = control_data_set_without_id['sequence'].tolist()\n",
    "label_control_data = control_data_set_without_id['label'].tolist()\n",
    "category_control_data = control_data_set_without_id['category'].tolist()"
   ]
  },
  {
   "cell_type": "code",
   "execution_count": 40,
   "metadata": {},
   "outputs": [
    {
     "data": {
      "text/plain": [
       "Counter({'fungi': 989, 'oomycetes': 125, 'bacteria': 1233, 'Others': 28})"
      ]
     },
     "execution_count": 40,
     "metadata": {},
     "output_type": "execute_result"
    }
   ],
   "source": [
    "Counter(category_data)"
   ]
  },
  {
   "cell_type": "code",
   "execution_count": 42,
   "metadata": {},
   "outputs": [],
   "source": [
    "def find_char_uniq(my_list):\n",
    "  long_list = [''.join(my_list)]  \n",
    "  for key, element in enumerate(long_list):\n",
    "    return(set(element)) "
   ]
  },
  {
   "cell_type": "code",
   "execution_count": 46,
   "metadata": {},
   "outputs": [
    {
     "data": {
      "text/plain": [
       "21"
      ]
     },
     "execution_count": 46,
     "metadata": {},
     "output_type": "execute_result"
    }
   ],
   "source": [
    "# find all possible letters of amino acids \n",
    "len(find_char_uniq(input_data))"
   ]
  },
  {
   "cell_type": "code",
   "execution_count": 48,
   "metadata": {},
   "outputs": [],
   "source": [
    "def get_key(mydict, element):\n",
    "    key = list(mydict.keys())[list(mydict.values()).index(element)]\n",
    "    return(key)\n",
    "\n",
    "amino = ['R', 'K', 'D', 'E', 'Q', 'N', 'H', 'S', 'T', 'Y', 'C', 'W', 'A', 'I', 'L', 'M', 'F', 'V', 'P', 'G']\n",
    "token_index = dict(zip(range(1, (len(amino)+1)), amino))\n",
    "\n",
    "def get_encoding(mydata, max_length):\n",
    "    results = np.zeros((len(mydata), max_length, max(token_index.keys())))\n",
    "    for i, sample in enumerate(mydata):\n",
    "        for j, character in enumerate(sample):\n",
    "            if character in token_index.values():\n",
    "                index = get_key(token_index, character) - 1\n",
    "                results[i, j, index] = 1. \n",
    "            else:\n",
    "                results[i, j, :] = results[i, j, :]\n",
    "    return results"
   ]
  },
  {
   "cell_type": "code",
   "execution_count": 49,
   "metadata": {},
   "outputs": [],
   "source": [
    "encoded_input_control_data = get_encoding(input_control_data, 2500)"
   ]
  },
  {
   "cell_type": "code",
   "execution_count": 50,
   "metadata": {},
   "outputs": [
    {
     "name": "stdout",
     "output_type": "stream",
     "text": [
      "(2375, 2500, 20)\n"
     ]
    }
   ],
   "source": [
    "print(encoded_input_control_data.shape)"
   ]
  },
  {
   "cell_type": "code",
   "execution_count": 54,
   "metadata": {},
   "outputs": [],
   "source": [
    "# save the control data sets\n",
    "import numpy as np\n",
    "\n",
    "np.save('../../data/0002-getting-control-sets/x_control.npy', encoded_input_control_data)\n",
    "np.save('../../data/0002-getting-control-sets/y_control.npy', label_control_data)\n",
    "np.save('../../data/0002-getting-control-sets/category_control.npy', category_control_data)"
   ]
  },
  {
   "cell_type": "code",
   "execution_count": null,
   "metadata": {},
   "outputs": [],
   "source": []
  }
 ],
 "metadata": {
  "kernelspec": {
   "display_name": "tensorflow",
   "language": "python",
   "name": "tensorflow"
  },
  "language_info": {
   "codemirror_mode": {
    "name": "ipython",
    "version": 3
   },
   "file_extension": ".py",
   "mimetype": "text/x-python",
   "name": "python",
   "nbconvert_exporter": "python",
   "pygments_lexer": "ipython3",
   "version": "3.6.8"
  }
 },
 "nbformat": 4,
 "nbformat_minor": 2
}
