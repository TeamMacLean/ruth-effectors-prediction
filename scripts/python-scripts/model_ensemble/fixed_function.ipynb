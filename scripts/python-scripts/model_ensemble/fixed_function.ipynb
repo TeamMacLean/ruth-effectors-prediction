{
 "cells": [
  {
   "cell_type": "code",
   "execution_count": null,
   "metadata": {},
   "outputs": [],
   "source": [
    "def load_all_models(files_dict, models_dir = \"models/weights/\"):\n",
    "    all_models = list()\n",
    "    for model, epoch in files_dict.items():\n",
    "        # Generate file path patterns\n",
    "        pattern = models_dir + model + \"_\" + epoch + \"*\" + '.hdf5'\n",
    "        print('Loading %s model...' % model)\n",
    "        file_paths = glob.glob(pattern)\n",
    "        # Add to list of members\n",
    "        if len(file_paths) == 0:\n",
    "            print('✘ No models found for specified epoch')\n",
    "            all_models.append(None)\n",
    "        else:\n",
    "            # Load files in loop\n",
    "            for file_name in file_paths:\n",
    "                # Load model from file\n",
    "                model = load_model(file_name)\n",
    "                all_models.append(model)\n",
    "                print('✔ Loaded %s' % file_name)\n",
    "    return all_models"
   ]
  },
  {
   "cell_type": "code",
   "execution_count": null,
   "metadata": {},
   "outputs": [],
   "source": [
    "def load_all_accuracies(files_dict, accs_dir = \"models/history_results/\"):\n",
    "    all_accs = list()\n",
    "    for model, epoch in files_dict.items():\n",
    "        # Generate file path patterns\n",
    "        pattern = accs_dir + \"df_results_val_\" + model + \"*\" + '.csv'\n",
    "        print('Loading %s model accuracy...' % model)\n",
    "        file_path = glob.glob(pattern)[0]\n",
    "        # Load accuracies\n",
    "        acc_df = pd.read_csv(file_path)\n",
    "        # Add to list of members\n",
    "        try:\n",
    "            acc = acc_df.loc[int(epoch) - 1, \"acc\"]\n",
    "            all_accs.append(acc)\n",
    "            print('✔ Loaded %s' % file_path)\n",
    "        except KeyError:\n",
    "            print('✘ No accuracy available for specified epoch')\n",
    "            all_accs.append(None)\n",
    "    return all_accs"
   ]
  },
  {
   "cell_type": "code",
   "execution_count": null,
   "metadata": {},
   "outputs": [],
   "source": [
    "def load_models_and_weights(files_dict, models_dir = \"models/weights/\", accs_dir = \"models/history_results/\"):\n",
    "    models = load_all_models(files_dict, models_dir)\n",
    "    print(\"\")\n",
    "    weights = load_all_accuracies(files_dict, accs_dir)\n",
    "    names = [name for name, epoch in files_dict.items()]\n",
    "    gc.collect()\n",
    "    \n",
    "    return (models, weights, names)"
   ]
  }
 ],
 "metadata": {
  "kernelspec": {
   "display_name": "tensorflow",
   "language": "python",
   "name": "tensorflow"
  },
  "language_info": {
   "codemirror_mode": {
    "name": "ipython",
    "version": 3
   },
   "file_extension": ".py",
   "mimetype": "text/x-python",
   "name": "python",
   "nbconvert_exporter": "python",
   "pygments_lexer": "ipython3",
   "version": "3.6.8"
  }
 },
 "nbformat": 4,
 "nbformat_minor": 4
}
