{
 "cells": [
  {
   "cell_type": "markdown",
   "metadata": {},
   "source": [
    "# Heatmap of Convolutional Layer in CNN-LSTM model for Bacteria"
   ]
  },
  {
   "cell_type": "code",
   "execution_count": 1,
   "metadata": {},
   "outputs": [],
   "source": [
    "# Load the libraries\n",
    "import matplotlib.pyplot as plt\n",
    "import numpy as np\n",
    "import pandas as pd\n",
    "from matplotlib.colors import ListedColormap\n",
    "from tensorflow.compat.v1.keras.models import load_model"
   ]
  },
  {
   "cell_type": "code",
   "execution_count": 2,
   "metadata": {},
   "outputs": [],
   "source": [
    "import cv2\n",
    "import glob"
   ]
  },
  {
   "cell_type": "code",
   "execution_count": 3,
   "metadata": {},
   "outputs": [
    {
     "name": "stdout",
     "output_type": "stream",
     "text": [
      "Model: \"model_1\"\n",
      "__________________________________________________________________________________________________\n",
      "Layer (type)                    Output Shape         Param #     Connected to                     \n",
      "==================================================================================================\n",
      "input_1 (InputLayer)            [(None, 2574, 20)]   0                                            \n",
      "__________________________________________________________________________________________________\n",
      "conv1d_1 (Conv1D)               (None, 2574, 4)      80          input_1[0][0]                    \n",
      "__________________________________________________________________________________________________\n",
      "conv1d_2 (Conv1D)               (None, 2572, 4)      240         input_1[0][0]                    \n",
      "__________________________________________________________________________________________________\n",
      "conv1d_3 (Conv1D)               (None, 2570, 4)      400         input_1[0][0]                    \n",
      "__________________________________________________________________________________________________\n",
      "batch_normalization_1 (BatchNor (None, 2574, 4)      16          conv1d_1[0][0]                   \n",
      "__________________________________________________________________________________________________\n",
      "batch_normalization_2 (BatchNor (None, 2572, 4)      16          conv1d_2[0][0]                   \n",
      "__________________________________________________________________________________________________\n",
      "batch_normalization_3 (BatchNor (None, 2570, 4)      16          conv1d_3[0][0]                   \n",
      "__________________________________________________________________________________________________\n",
      "activation_1 (Activation)       (None, 2574, 4)      0           batch_normalization_1[0][0]      \n",
      "__________________________________________________________________________________________________\n",
      "activation_2 (Activation)       (None, 2572, 4)      0           batch_normalization_2[0][0]      \n",
      "__________________________________________________________________________________________________\n",
      "activation_3 (Activation)       (None, 2570, 4)      0           batch_normalization_3[0][0]      \n",
      "__________________________________________________________________________________________________\n",
      "concatenate_1 (Concatenate)     (None, 7716, 4)      0           activation_1[0][0]               \n",
      "                                                                 activation_2[0][0]               \n",
      "                                                                 activation_3[0][0]               \n",
      "__________________________________________________________________________________________________\n",
      "conv1d_4 (Conv1D)               (None, 7714, 8)      104         concatenate_1[0][0]              \n",
      "__________________________________________________________________________________________________\n",
      "lstm_1 (LSTM)                   (None, 8)            544         conv1d_4[0][0]                   \n",
      "__________________________________________________________________________________________________\n",
      "lstm_2 (LSTM)                   (None, 8)            544         conv1d_4[0][0]                   \n",
      "__________________________________________________________________________________________________\n",
      "concatenate_2 (Concatenate)     (None, 16)           0           lstm_1[0][0]                     \n",
      "                                                                 lstm_2[0][0]                     \n",
      "__________________________________________________________________________________________________\n",
      "dense_1 (Dense)                 (None, 8)            136         concatenate_2[0][0]              \n",
      "__________________________________________________________________________________________________\n",
      "dropout_1 (Dropout)             (None, 8)            0           dense_1[0][0]                    \n",
      "__________________________________________________________________________________________________\n",
      "dense_2 (Dense)                 (None, 1)            9           dropout_1[0][0]                  \n",
      "==================================================================================================\n",
      "Total params: 2,105\n",
      "Trainable params: 2,081\n",
      "Non-trainable params: 24\n",
      "__________________________________________________________________________________________________\n"
     ]
    }
   ],
   "source": [
    "# Get the pretarined model and show the summary of the model\n",
    "cnn_lstm_bacteria = load_model(\"../../../data/secreted_data/saved_models/bacteria/cnn_lstm/model_1.30-0.33.hdf5\")\n",
    "cnn_lstm_bacteria.summary()"
   ]
  },
  {
   "cell_type": "markdown",
   "metadata": {},
   "source": [
    "# Define function"
   ]
  },
  {
   "cell_type": "code",
   "execution_count": 4,
   "metadata": {},
   "outputs": [],
   "source": [
    "# Load datasets\n",
    "dataset = np.load('../../../data/secreted_data/ready_to_process/encoded_files/bacteria/x_train.npy')"
   ]
  },
  {
   "cell_type": "code",
   "execution_count": 5,
   "metadata": {},
   "outputs": [],
   "source": [
    "def get_sum_heatmap_from_files(data_name, class_eff, layer, verbose = True, dataset = dataset):\n",
    "    npy_loading_pattern = \"results_secreted/bacteria/cnn_lstm/all_matrices_\" + class_eff + \"_\" + data_name + \"_\" + layer + \"*.npy\"\n",
    "    data_loading_path = glob.glob(npy_loading_pattern)\n",
    "    \n",
    "    if verbose: print(\"Loading\", data_name, \"data from\", len(data_loading_path) ,\"files...\")\n",
    "    \n",
    "    # Initalize empty matrix\n",
    "    all_matrices = np.empty([0 , 1, np.load(data_loading_path[0]).shape[2]])\n",
    "\n",
    "    # Append matrices from files\n",
    "    for path in data_loading_path:\n",
    "        data = np.load(path)\n",
    "        all_matrices = np.concatenate((all_matrices, data))\n",
    "        \n",
    "    if verbose: print(\"Loaded\", all_matrices.shape[0], \"data samples\")\n",
    "    sum_all_matrices = np.sum(all_matrices, axis = 0)\n",
    "    \n",
    "    # Calculate heatmap\n",
    "    heatmap = np.maximum(sum_all_matrices, 0)\n",
    "    heatmap /= np.max(heatmap)\n",
    "    heatmap = cv2.resize(heatmap, (dataset.shape[1], dataset.shape[2]))\n",
    "\n",
    "    \n",
    "    return(sum_all_matrices, heatmap)"
   ]
  },
  {
   "cell_type": "code",
   "execution_count": 6,
   "metadata": {},
   "outputs": [],
   "source": [
    "def plot_heatmap(data, from_data, to_data, colorbar = None):\n",
    "    plt.matshow(data[:,from_data:to_data], cmap = 'viridis', origin = \"lower\", vmin = 0, vmax = 1)\n",
    "    ax = plt.gca()\n",
    "    plot = ax.axes.get_yaxis().set_visible(False)\n",
    "    if colorbar == \"Yes\":\n",
    "        plt.colorbar()\n",
    "    \n",
    "    return plot"
   ]
  },
  {
   "cell_type": "code",
   "execution_count": 7,
   "metadata": {},
   "outputs": [],
   "source": [
    "def plot_fft(data, threshold, length_to_plot):\n",
    "    \n",
    "    # reshape data\n",
    "    data = data.reshape(data.shape[1])\n",
    "    \n",
    "    # transform real data to the frequency domain (Fourier transform)\n",
    "    real_ft = np.fft.rfft(data)\n",
    "    \n",
    "    # remove undesired frequencies\n",
    "    real_ft[threshold:] = 0 \n",
    "    \n",
    "    # move back to the time domain. (Inverse fourier transform)\n",
    "    smooth_data = np.fft.irfft(real_ft)\n",
    "    \n",
    "    # plot the results\n",
    "    plt.figure(figsize=[30, 12])\n",
    "    plt.plot(data[:length_to_plot], label='Original')\n",
    "    plt.plot(smooth_data[0:length_to_plot],'r', linewidth=3, label='Smooth')\n",
    "    plt.legend(loc=0)\n",
    "    plt.show()"
   ]
  },
  {
   "cell_type": "code",
   "execution_count": 8,
   "metadata": {},
   "outputs": [],
   "source": [
    "# Define the function\n",
    "\n",
    "def plot_bar(data, from_data = None, to_data = None):\n",
    "    \n",
    "    if from_data is not None and to_data is not None:\n",
    "        data = data[:,from_data:to_data].ravel()\n",
    "    else:\n",
    "        data = data.ravel()\n",
    "         \n",
    "    plt.plot(data)\n",
    "    fig = plt.gcf()\n",
    "    fig.set_size_inches(30, 10)\n",
    "    plt.xlabel('Position')\n",
    "    plt.ylabel('Importance Score')"
   ]
  },
  {
   "cell_type": "markdown",
   "metadata": {},
   "source": [
    "## Get all of the matrices from the the first (conv1d_1) convolutional layer"
   ]
  },
  {
   "cell_type": "code",
   "execution_count": 10,
   "metadata": {},
   "outputs": [
    {
     "name": "stdout",
     "output_type": "stream",
     "text": [
      "Loading x_train data from 1 files...\n",
      "Loaded 228 data samples\n"
     ]
    }
   ],
   "source": [
    "sum_all_matrices_xtrain_cnn_lstm, x_train_bacteria_cnn_lstm = get_sum_heatmap_from_files(\"x_train\", \"bacteria\", \"conv1d_1\")"
   ]
  },
  {
   "cell_type": "code",
   "execution_count": 11,
   "metadata": {},
   "outputs": [
    {
     "name": "stdout",
     "output_type": "stream",
     "text": [
      "Loading x_val data from 1 files...\n",
      "Loaded 76 data samples\n"
     ]
    }
   ],
   "source": [
    "sum_all_matrices_xval_cnn_lstm, x_val_bacteria_cnn_lstm = get_sum_heatmap_from_files(\"x_val\", \"bacteria\", \"conv1d_1\")"
   ]
  },
  {
   "cell_type": "code",
   "execution_count": 12,
   "metadata": {},
   "outputs": [
    {
     "name": "stdout",
     "output_type": "stream",
     "text": [
      "Loading x_test data from 1 files...\n",
      "Loaded 76 data samples\n"
     ]
    }
   ],
   "source": [
    "sum_all_matrices_xtest_cnn_lstm, x_test_bacteria_cnn_lstm = get_sum_heatmap_from_files(\"x_test\", \"bacteria\", \"conv1d_1\")"
   ]
  },
  {
   "cell_type": "markdown",
   "metadata": {},
   "source": [
    "### Plot the training data"
   ]
  },
  {
   "cell_type": "code",
   "execution_count": 13,
   "metadata": {},
   "outputs": [
    {
     "data": {
      "image/png": "[encoded data removed]",
      "text/plain": [
       "<Figure size 1152x144 with 1 Axes>"
      ]
     },
     "metadata": {
      "needs_background": "light"
     },
     "output_type": "display_data"
    }
   ],
   "source": [
    "plot_heatmap(x_train_bacteria_cnn_lstm, x_train_bacteria_cnn_lstm.shape[0], x_train_bacteria_cnn_lstm.shape[1])"
   ]
  },
  {
   "cell_type": "code",
   "execution_count": 17,
   "metadata": {},
   "outputs": [
    {
     "data": {
      "image/png": "[encoded data removed]",
      "text/plain": [
       "<Figure size 720x288 with 1 Axes>"
      ]
     },
     "metadata": {
      "needs_background": "light"
     },
     "output_type": "display_data"
    }
   ],
   "source": [
    "plot_heatmap(x_train_bacteria_cnn_lstm, 0, 50)"
   ]
  },
  {
   "cell_type": "markdown",
   "metadata": {},
   "source": [
    "### Plot the validation data"
   ]
  },
  {
   "cell_type": "code",
   "execution_count": 19,
   "metadata": {},
   "outputs": [
    {
     "data": {
      "image/png": "[encoded data removed]",
      "text/plain": [
       "<Figure size 1152x144 with 1 Axes>"
      ]
     },
     "metadata": {
      "needs_background": "light"
     },
     "output_type": "display_data"
    }
   ],
   "source": [
    "plot_heatmap(x_val_bacteria_cnn_lstm, x_val_bacteria_cnn_lstm.shape[0], x_val_bacteria_cnn_lstm.shape[1])"
   ]
  },
  {
   "cell_type": "code",
   "execution_count": 21,
   "metadata": {},
   "outputs": [
    {
     "data": {
      "image/png": "[encoded data removed]",
      "text/plain": [
       "<Figure size 720x288 with 1 Axes>"
      ]
     },
     "metadata": {
      "needs_background": "light"
     },
     "output_type": "display_data"
    }
   ],
   "source": [
    "plot_heatmap(x_val_bacteria_cnn_lstm, 0, 50)"
   ]
  },
  {
   "cell_type": "markdown",
   "metadata": {},
   "source": [
    "### Plot the testing data"
   ]
  },
  {
   "cell_type": "code",
   "execution_count": 22,
   "metadata": {},
   "outputs": [
    {
     "data": {
      "image/png": "[encoded data removed]",
      "text/plain": [
       "<Figure size 1152x144 with 1 Axes>"
      ]
     },
     "metadata": {
      "needs_background": "light"
     },
     "output_type": "display_data"
    }
   ],
   "source": [
    "plot_heatmap(x_test_bacteria_cnn_lstm, x_test_bacteria_cnn_lstm.shape[0], x_test_bacteria_cnn_lstm.shape[1])"
   ]
  },
  {
   "cell_type": "code",
   "execution_count": 23,
   "metadata": {},
   "outputs": [
    {
     "data": {
      "image/png": "[encoded data removed]",
      "text/plain": [
       "<Figure size 720x288 with 1 Axes>"
      ]
     },
     "metadata": {
      "needs_background": "light"
     },
     "output_type": "display_data"
    }
   ],
   "source": [
    "plot_heatmap(x_test_bacteria_cnn_lstm, 0, 50)"
   ]
  },
  {
   "cell_type": "markdown",
   "metadata": {},
   "source": [
    "## Get all of the matrices from the the first (conv1d_3) convolutional layer"
   ]
  },
  {
   "cell_type": "code",
   "execution_count": 18,
   "metadata": {},
   "outputs": [
    {
     "name": "stdout",
     "output_type": "stream",
     "text": [
      "Loading x_train data from 10 files...\n",
      "Loaded 228 data samples\n"
     ]
    }
   ],
   "source": [
    "sum_all_matrices_xtrain_cnn_lstm, x_train_bacteria_cnn_lstm = get_sum_heatmap_from_files(\"x_train\", \"bacteria\", \"conv1d_3\")"
   ]
  },
  {
   "cell_type": "code",
   "execution_count": 16,
   "metadata": {},
   "outputs": [
    {
     "name": "stdout",
     "output_type": "stream",
     "text": [
      "Loading x_val data from 4 files...\n",
      "Loaded 76 data samples\n"
     ]
    }
   ],
   "source": [
    "sum_all_matrices_xval_cnn_lstm, x_val_bacteria_cnn_lstm = get_sum_heatmap_from_files(\"x_val\", \"bacteria\", \"conv1d_2\")"
   ]
  },
  {
   "cell_type": "code",
   "execution_count": 11,
   "metadata": {},
   "outputs": [
    {
     "name": "stdout",
     "output_type": "stream",
     "text": [
      "Loading x_test data from 4 files...\n",
      "Loaded 76 data samples\n"
     ]
    }
   ],
   "source": [
    "sum_all_matrices_xtest_cnn_lstm, x_test_bacteria_cnn_lstm = get_sum_heatmap_from_files(\"x_test\", \"bacteria\", \"conv1d_3\")"
   ]
  },
  {
   "cell_type": "code",
   "execution_count": 19,
   "metadata": {},
   "outputs": [
    {
     "data": {
      "image/png": "[encoded data removed]",
      "text/plain": [
       "<Figure size 1152x144 with 1 Axes>"
      ]
     },
     "metadata": {
      "needs_background": "light"
     },
     "output_type": "display_data"
    }
   ],
   "source": [
    "plot_heatmap(x_train_bacteria_cnn_lstm, x_train_bacteria_cnn_lstm.shape[0], x_train_bacteria_cnn_lstm.shape[1])"
   ]
  },
  {
   "cell_type": "code",
   "execution_count": 21,
   "metadata": {},
   "outputs": [
    {
     "data": {
      "text/plain": [
       "array([[nan, nan, nan, ..., nan, nan, nan]])"
      ]
     },
     "execution_count": 21,
     "metadata": {},
     "output_type": "execute_result"
    }
   ],
   "source": [
    "sum_all_matrices_xtrain_cnn_lstm"
   ]
  },
  {
   "cell_type": "code",
   "execution_count": null,
   "metadata": {},
   "outputs": [],
   "source": []
  }
 ],
 "metadata": {
  "kernelspec": {
   "display_name": "Tensorflow 2",
   "language": "python",
   "name": "tensorflow2"
  },
  "language_info": {
   "codemirror_mode": {
    "name": "ipython",
    "version": 3
   },
   "file_extension": ".py",
   "mimetype": "text/x-python",
   "name": "python",
   "nbconvert_exporter": "python",
   "pygments_lexer": "ipython3",
   "version": "3.7.5"
  }
 },
 "nbformat": 4,
 "nbformat_minor": 2
}
