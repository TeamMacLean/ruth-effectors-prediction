{
 "cells": [
  {
   "cell_type": "markdown",
   "metadata": {},
   "source": [
    "# Load libraries"
   ]
  },
  {
   "cell_type": "code",
   "execution_count": 1,
   "metadata": {},
   "outputs": [
    {
     "name": "stdout",
     "output_type": "stream",
     "text": [
      "WARNING:tensorflow:From /anaconda3/envs/tensorflow2/lib/python3.7/site-packages/tensorflow_core/python/compat/v2_compat.py:65: disable_resource_variables (from tensorflow.python.ops.variable_scope) is deprecated and will be removed in a future version.\n",
      "Instructions for updating:\n",
      "non-resource variables are not supported in the long term\n"
     ]
    }
   ],
   "source": [
    "import tensorflow.compat.v1 as tf\n",
    "from tensorflow.compat.v1.keras.models import load_model\n",
    "import tensorflow.compat.v1.keras.backend as K\n",
    "tf.disable_v2_behavior()"
   ]
  },
  {
   "cell_type": "code",
   "execution_count": 2,
   "metadata": {},
   "outputs": [],
   "source": [
    "import matplotlib.pyplot as plt\n",
    "import numpy as np\n",
    "import pandas as pd\n",
    "from matplotlib.colors import ListedColormap"
   ]
  },
  {
   "cell_type": "code",
   "execution_count": 3,
   "metadata": {},
   "outputs": [],
   "source": [
    "import cv2\n",
    "import glob\n",
    "import time\n",
    "import gc"
   ]
  },
  {
   "cell_type": "markdown",
   "metadata": {},
   "source": [
    "# Functions"
   ]
  },
  {
   "cell_type": "code",
   "execution_count": 4,
   "metadata": {},
   "outputs": [],
   "source": [
    "def get_iterate(model, layer):\n",
    "    # Get the output of the layer and the data\n",
    "    data_output = model.output[:, 0]\n",
    "\n",
    "    # Get layer output\n",
    "    get_layer = model.get_layer(layer)\n",
    "    layer_output = get_layer.output\n",
    "\n",
    "    # Calculate the gradients\n",
    "    grads = K.gradients(data_output, layer_output)[0]\n",
    "\n",
    "    pooled_grads = K.mean(grads, axis = (0, 1))\n",
    "\n",
    "    iterate = K.function([model.input], [pooled_grads, layer_output[0]])\n",
    "    \n",
    "    return(iterate)"
   ]
  },
  {
   "cell_type": "code",
   "execution_count": 5,
   "metadata": {},
   "outputs": [],
   "source": [
    "def get_heatmap_matrix(dataset, nth_data, iterate):\n",
    "\n",
    "    # Get the data\n",
    "    data = dataset[nth_data:nth_data+1, :, :]\n",
    "    \n",
    "    pooled_grads_value, layer_output_value = iterate([data])\n",
    "\n",
    "    layer_output_value[:, ] *= pooled_grads_value\n",
    "        \n",
    "    # Get the heatmap matrix\n",
    "    heatmap = np.copy(layer_output_value)\n",
    "    heatmap = np.mean(heatmap, axis = -1)\n",
    "    heatmap = np.maximum(heatmap, 0)\n",
    "    heatmap /= np.max(heatmap)\n",
    "\n",
    "    # Expand the dimensionality of heatmap so that it can be plot\n",
    "    heatmap = np.expand_dims(heatmap, axis=0)\n",
    "    \n",
    "    return heatmap"
   ]
  },
  {
   "cell_type": "code",
   "execution_count": 6,
   "metadata": {},
   "outputs": [],
   "source": [
    "# Original function\n",
    "# def load_npy_data(filename):\n",
    "#     # Define pattern of the npy data\n",
    "#     data_loading_pattern = \"data-sets/\" + filename + \".npy\"\n",
    "#     data_loading_path = glob.glob(data_loading_pattern)\n",
    "\n",
    "#     # Load the data\n",
    "#     print(\"Loading data:\", str(filename), \"from \" + data_loading_path[0])\n",
    "#     data = np.load(data_loading_path[0])\n",
    "    \n",
    "#     return(data)\n",
    "\n",
    "# Define function for secreted data\n",
    "def load_npy_data(filename):\n",
    "    # Define pattern of the npy data\n",
    "    data_loading_pattern = \"../../../data/secreted_data/ready_to_process/encoded_files/\" + filename + \".npy\"\n",
    "    data_loading_path = glob.glob(data_loading_pattern)\n",
    "\n",
    "    # Load the data\n",
    "    print(\"Loading data:\", str(filename), \"from \" + data_loading_path[0])\n",
    "    data = np.load(data_loading_path[0])\n",
    "    \n",
    "    return(data)"
   ]
  },
  {
   "cell_type": "code",
   "execution_count": 7,
   "metadata": {},
   "outputs": [],
   "source": [
    "def get_sum_heatmap(class_name, data_name, model, layer, from_sample, sample_length):\n",
    "    \n",
    "    file_name = class_name + \"/\" + data_name\n",
    "    data = load_npy_data(file_name)\n",
    "    print(\"Data shape: \" + str(data.shape[0]))\n",
    "    \n",
    "    iterate = get_iterate(model, layer)\n",
    "    result = []\n",
    "\n",
    "    min_sample = from_sample\n",
    "    max_sample = np.min([from_sample + sample_length, data.shape[0]])\n",
    "    \n",
    "    print(\"\")\n",
    "    # For loop to get the heatmap for each matrix\n",
    "    for nth_sample in range(min_sample, max_sample):\n",
    "        print(\"Getting the heatmap for the data: sample \" + str(nth_sample) + \"/\" + str(max_sample-1))\n",
    "        heatmap = get_heatmap_matrix(data, nth_sample, iterate)\n",
    "\n",
    "        # Put all of the results together\n",
    "        result.append(heatmap)\n",
    "        \n",
    "        # Free memory (useless)\n",
    "        gc.collect()\n",
    "\n",
    "    # Change the list to numpy array\n",
    "    all_matrices = np.array(result)\n",
    "\n",
    "    # Save all matrices\n",
    "    saving_path = \"results_secreted/all_matrices_\" + class_name + \"_\" + data_name + \"_\" + layer + \"_samples_\" + str(min_sample).zfill(4) + \"_\" + str(max_sample-1).zfill(4) + \".npy\"\n",
    "\n",
    "    print(\"\")\n",
    "    print(\"Saving results in\", saving_path)\n",
    "    np.save(saving_path, all_matrices)"
   ]
  },
  {
   "cell_type": "markdown",
   "metadata": {},
   "source": [
    "# Run functions in steps"
   ]
  },
  {
   "cell_type": "code",
   "execution_count": 10,
   "metadata": {},
   "outputs": [
    {
     "name": "stdout",
     "output_type": "stream",
     "text": [
      "WARNING:tensorflow:From /anaconda3/envs/tensorflow2/lib/python3.7/site-packages/tensorflow_core/python/ops/resource_variable_ops.py:1630: calling BaseResourceVariable.__init__ (from tensorflow.python.ops.resource_variable_ops) with constraint is deprecated and will be removed in a future version.\n",
      "Instructions for updating:\n",
      "If using Keras pass *_constraint arguments to layers.\n",
      "WARNING:tensorflow:From /anaconda3/envs/tensorflow2/lib/python3.7/site-packages/tensorflow_core/python/ops/init_ops.py:97: calling VarianceScaling.__init__ (from tensorflow.python.ops.init_ops) with dtype is deprecated and will be removed in a future version.\n",
      "Instructions for updating:\n",
      "Call initializer instance with the dtype argument instead of passing it to the constructor\n",
      "WARNING:tensorflow:From /anaconda3/envs/tensorflow2/lib/python3.7/site-packages/tensorflow_core/python/ops/init_ops.py:97: calling Orthogonal.__init__ (from tensorflow.python.ops.init_ops) with dtype is deprecated and will be removed in a future version.\n",
      "Instructions for updating:\n",
      "Call initializer instance with the dtype argument instead of passing it to the constructor\n",
      "WARNING:tensorflow:From /anaconda3/envs/tensorflow2/lib/python3.7/site-packages/tensorflow_core/python/ops/init_ops.py:97: calling Zeros.__init__ (from tensorflow.python.ops.init_ops) with dtype is deprecated and will be removed in a future version.\n",
      "Instructions for updating:\n",
      "Call initializer instance with the dtype argument instead of passing it to the constructor\n"
     ]
    }
   ],
   "source": [
    "# model = load_model(\"models/oomycete/cnn-lstm/model_1.30-0.30.hdf5\")\n",
    "model = load_model(\"../../../data/secreted_data/saved_models/oomycete/cnn_gru/sequential_1.30-0.43.hdf5\")"
   ]
  },
  {
   "cell_type": "code",
   "execution_count": 11,
   "metadata": {},
   "outputs": [
    {
     "name": "stdout",
     "output_type": "stream",
     "text": [
      "Model: \"sequential_1\"\n",
      "_________________________________________________________________\n",
      "Layer (type)                 Output Shape              Param #   \n",
      "=================================================================\n",
      "conv1d_1 (Conv1D)            (None, 933, 16)           656       \n",
      "_________________________________________________________________\n",
      "max_pooling1d_1 (MaxPooling1 (None, 466, 16)           0         \n",
      "_________________________________________________________________\n",
      "bidirectional_1 (Bidirection (None, 16)                1200      \n",
      "_________________________________________________________________\n",
      "dense_1 (Dense)              (None, 1)                 17        \n",
      "=================================================================\n",
      "Total params: 1,873\n",
      "Trainable params: 1,873\n",
      "Non-trainable params: 0\n",
      "_________________________________________________________________\n"
     ]
    }
   ],
   "source": [
    "model.summary()"
   ]
  },
  {
   "cell_type": "code",
   "execution_count": 24,
   "metadata": {},
   "outputs": [
    {
     "name": "stdout",
     "output_type": "stream",
     "text": [
      "Loading data: oomycete/x_train_oomycete from ../../../data/secreted_data/ready_to_process/encoded_files/oomycete/x_train_oomycete.npy\n",
      "Data shape: 102\n",
      "\n",
      "Getting the heatmap for the data: sample 100/101\n",
      "Getting the heatmap for the data: sample 101/101\n",
      "\n",
      "Saving results in results_secreted/all_matrices_oomycete_x_train_oomycete_conv1d_1_samples_0100_0101.npy\n"
     ]
    }
   ],
   "source": [
    "get_sum_heatmap(\n",
    "    class_name = \"oomycete\",\n",
    "    data_name = \"x_train_oomycete\", \n",
    "    model = model,  \n",
    "    layer = \"conv1d_1\",\n",
    "    from_sample = 100,\n",
    "    sample_length = 25\n",
    ")"
   ]
  },
  {
   "cell_type": "code",
   "execution_count": 18,
   "metadata": {},
   "outputs": [
    {
     "name": "stdout",
     "output_type": "stream",
     "text": [
      "Loading data: oomycete/x_val_oomycete from ../../../data/secreted_data/ready_to_process/encoded_files/oomycete/x_val_oomycete.npy\n",
      "Data shape: 34\n",
      "\n",
      "Getting the heatmap for the data: sample 0/33\n",
      "Getting the heatmap for the data: sample 1/33\n",
      "Getting the heatmap for the data: sample 2/33\n",
      "Getting the heatmap for the data: sample 3/33\n",
      "Getting the heatmap for the data: sample 4/33\n",
      "Getting the heatmap for the data: sample 5/33\n",
      "Getting the heatmap for the data: sample 6/33\n",
      "Getting the heatmap for the data: sample 7/33\n",
      "Getting the heatmap for the data: sample 8/33\n",
      "Getting the heatmap for the data: sample 9/33\n",
      "Getting the heatmap for the data: sample 10/33\n",
      "Getting the heatmap for the data: sample 11/33\n",
      "Getting the heatmap for the data: sample 12/33\n",
      "Getting the heatmap for the data: sample 13/33\n",
      "Getting the heatmap for the data: sample 14/33\n",
      "Getting the heatmap for the data: sample 15/33\n",
      "Getting the heatmap for the data: sample 16/33\n",
      "Getting the heatmap for the data: sample 17/33\n",
      "Getting the heatmap for the data: sample 18/33\n",
      "Getting the heatmap for the data: sample 19/33\n",
      "Getting the heatmap for the data: sample 20/33\n",
      "Getting the heatmap for the data: sample 21/33\n",
      "Getting the heatmap for the data: sample 22/33\n",
      "Getting the heatmap for the data: sample 23/33\n",
      "Getting the heatmap for the data: sample 24/33\n",
      "Getting the heatmap for the data: sample 25/33\n",
      "Getting the heatmap for the data: sample 26/33\n",
      "Getting the heatmap for the data: sample 27/33\n",
      "Getting the heatmap for the data: sample 28/33\n",
      "Getting the heatmap for the data: sample 29/33\n",
      "Getting the heatmap for the data: sample 30/33\n",
      "Getting the heatmap for the data: sample 31/33\n",
      "Getting the heatmap for the data: sample 32/33\n",
      "Getting the heatmap for the data: sample 33/33\n",
      "\n",
      "Saving results in results_secreted/all_matrices_oomycete_x_val_oomycete_conv1d_1_samples_0000_0033.npy\n"
     ]
    }
   ],
   "source": [
    "get_sum_heatmap(\n",
    "    class_name = \"oomycete\",\n",
    "    data_name = \"x_val_oomycete\", \n",
    "    model = model,  \n",
    "    layer = \"conv1d_1\",\n",
    "    from_sample = 0,\n",
    "    sample_length = 25\n",
    ")"
   ]
  },
  {
   "cell_type": "code",
   "execution_count": 19,
   "metadata": {},
   "outputs": [
    {
     "name": "stdout",
     "output_type": "stream",
     "text": [
      "Loading data: oomycete/x_test_oomycete from ../../../data/secreted_data/ready_to_process/encoded_files/oomycete/x_test_oomycete.npy\n",
      "Data shape: 34\n",
      "\n",
      "Getting the heatmap for the data: sample 0/33\n",
      "Getting the heatmap for the data: sample 1/33\n",
      "Getting the heatmap for the data: sample 2/33\n",
      "Getting the heatmap for the data: sample 3/33\n",
      "Getting the heatmap for the data: sample 4/33\n",
      "Getting the heatmap for the data: sample 5/33\n",
      "Getting the heatmap for the data: sample 6/33\n",
      "Getting the heatmap for the data: sample 7/33\n",
      "Getting the heatmap for the data: sample 8/33\n",
      "Getting the heatmap for the data: sample 9/33\n",
      "Getting the heatmap for the data: sample 10/33\n",
      "Getting the heatmap for the data: sample 11/33\n",
      "Getting the heatmap for the data: sample 12/33\n",
      "Getting the heatmap for the data: sample 13/33\n",
      "Getting the heatmap for the data: sample 14/33\n",
      "Getting the heatmap for the data: sample 15/33\n",
      "Getting the heatmap for the data: sample 16/33\n",
      "Getting the heatmap for the data: sample 17/33\n",
      "Getting the heatmap for the data: sample 18/33\n",
      "Getting the heatmap for the data: sample 19/33\n",
      "Getting the heatmap for the data: sample 20/33\n",
      "Getting the heatmap for the data: sample 21/33\n",
      "Getting the heatmap for the data: sample 22/33\n",
      "Getting the heatmap for the data: sample 23/33\n",
      "Getting the heatmap for the data: sample 24/33\n",
      "Getting the heatmap for the data: sample 25/33\n",
      "Getting the heatmap for the data: sample 26/33\n",
      "Getting the heatmap for the data: sample 27/33\n",
      "Getting the heatmap for the data: sample 28/33\n",
      "Getting the heatmap for the data: sample 29/33\n",
      "Getting the heatmap for the data: sample 30/33\n",
      "Getting the heatmap for the data: sample 31/33\n",
      "Getting the heatmap for the data: sample 32/33\n",
      "Getting the heatmap for the data: sample 33/33\n",
      "\n",
      "Saving results in results_secreted/all_matrices_oomycete_x_test_oomycete_conv1d_1_samples_0000_0033.npy\n"
     ]
    }
   ],
   "source": [
    "get_sum_heatmap(\n",
    "    class_name = \"oomycete\",\n",
    "    data_name = \"x_test_oomycete\", \n",
    "    model = model,  \n",
    "    layer = \"conv1d_1\",\n",
    "    from_sample = 0,\n",
    "    sample_length = 20\n",
    ")"
   ]
  },
  {
   "cell_type": "code",
   "execution_count": null,
   "metadata": {},
   "outputs": [],
   "source": []
  }
 ],
 "metadata": {
  "kernelspec": {
   "display_name": "Tensorflow 2",
   "language": "python",
   "name": "tensorflow2"
  },
  "language_info": {
   "codemirror_mode": {
    "name": "ipython",
    "version": 3
   },
   "file_extension": ".py",
   "mimetype": "text/x-python",
   "name": "python",
   "nbconvert_exporter": "python",
   "pygments_lexer": "ipython3",
   "version": "3.7.5"
  }
 },
 "nbformat": 4,
 "nbformat_minor": 4
}
