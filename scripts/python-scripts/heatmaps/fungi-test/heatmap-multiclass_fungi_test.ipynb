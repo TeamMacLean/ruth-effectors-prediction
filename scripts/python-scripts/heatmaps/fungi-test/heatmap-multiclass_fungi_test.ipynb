{
 "cells": [
  {
   "cell_type": "code",
   "execution_count": 1,
   "metadata": {},
   "outputs": [
    {
     "name": "stdout",
     "output_type": "stream",
     "text": [
      "WARNING:tensorflow:From /usr/local/Caskroom/miniconda/base/envs/tensorflow-test/lib/python3.7/site-packages/tensorflow_core/python/compat/v2_compat.py:65: disable_resource_variables (from tensorflow.python.ops.variable_scope) is deprecated and will be removed in a future version.\n",
      "Instructions for updating:\n",
      "non-resource variables are not supported in the long term\n"
     ]
    }
   ],
   "source": [
    "import tensorflow.compat.v1 as tf\n",
    "from tensorflow.compat.v1.keras.models import load_model\n",
    "import tensorflow.compat.v1.keras.backend as K\n",
    "tf.disable_v2_behavior()"
   ]
  },
  {
   "cell_type": "code",
   "execution_count": 2,
   "metadata": {},
   "outputs": [],
   "source": [
    "import matplotlib.pyplot as plt\n",
    "import numpy as np\n",
    "import pandas as pd\n",
    "from matplotlib.colors import ListedColormap"
   ]
  },
  {
   "cell_type": "code",
   "execution_count": 3,
   "metadata": {},
   "outputs": [],
   "source": [
    "import cv2\n",
    "import glob\n",
    "import time\n",
    "import gc"
   ]
  },
  {
   "cell_type": "markdown",
   "metadata": {},
   "source": [
    "## Function"
   ]
  },
  {
   "cell_type": "code",
   "execution_count": 4,
   "metadata": {},
   "outputs": [],
   "source": [
    "def get_heatmap_matrix(dataset, model, nth_data, layer, verbose = False):\n",
    "\n",
    "    #Get the data\n",
    "    data = dataset[nth_data:nth_data+1, :, :]\n",
    "    if verbose: print(data.shape)\n",
    "\n",
    "    # Get the prediction from the model\n",
    "    preds = model.predict(data)\n",
    "\n",
    "    # Get the position that maximally activated\n",
    "    position = np.argmax(preds[0])\n",
    "    if verbose: print(position)\n",
    "\n",
    "    # Get the output of the layer and the data\n",
    "    data_output = model.output[:, 0]\n",
    "\n",
    "    # Get layer output\n",
    "    get_layer = model.get_layer(layer)\n",
    "    layer_output = get_layer.output\n",
    "    num_filter = layer_output.shape[2]\n",
    "\n",
    "    # Calculate the gradients\n",
    "    grads = K.gradients(data_output, layer_output)[0]\n",
    "    if verbose: print(grads.shape)\n",
    "\n",
    "    pooled_grads = K.mean(grads, axis = (0, 1))\n",
    "\n",
    "    iterate = K.function([model.input], [pooled_grads, layer_output[0]])\n",
    "\n",
    "    if verbose: print(\"Starting K iteration...\")\n",
    "    t = time.time()\n",
    "    pooled_grads_value, layer_output_value = iterate([data])\n",
    "    if verbose: print(\"Finished K iteration \" + \"(\" + str(time.time() - t) + \"seconds)\")\n",
    "    if verbose: print(layer_output_value.shape)\n",
    "\n",
    "    if verbose: print(\"Starting loop...\")\n",
    "    t = time.time()\n",
    "    # Looping\n",
    "    for i in range(num_filter):\n",
    "        layer_output_value[:, i] *= pooled_grads_value[i]\n",
    "\n",
    "    if verbose: print(\"Loop finished \" + \" (\" + str(time.time() - t) + \"seconds)\" )\n",
    "    # Get the heatmap matrix\n",
    "    heatmap = np.mean(layer_output_value, axis = -1)\n",
    "    heatmap = np.maximum(heatmap, 0)\n",
    "    heatmap /= np.max(heatmap)\n",
    "\n",
    "    # Expand the dimensionality of heatmap so that it can be plot\n",
    "    heatmap = np.expand_dims(heatmap, axis=0)\n",
    "\n",
    "    return heatmap"
   ]
  },
  {
   "cell_type": "code",
   "execution_count": 5,
   "metadata": {},
   "outputs": [],
   "source": [
    "def load_npy_data(pathogen_class, filename):\n",
    "    # Define pattern of the npy data\n",
    "    data_loading_pattern = \"data-sets/\" + pathogen_class + \"/\" + filename + \".npy\"\n",
    "    data_loading_path = glob.glob(data_loading_pattern)\n",
    "\n",
    "    # Load the data\n",
    "    print(\"Loading data:\", str(filename), \"from \" + data_loading_path[0])\n",
    "    data = np.load(data_loading_path[0])\n",
    "    \n",
    "    return(data)"
   ]
  },
  {
   "cell_type": "code",
   "execution_count": 6,
   "metadata": {},
   "outputs": [],
   "source": [
    "def get_sum_heatmap(pathogen_class, data_name, model, layer):\n",
    "    \n",
    "    data = load_npy_data(pathogen_class, data_name)\n",
    "    result = []\n",
    "\n",
    "    max_sample = data.shape[0]\n",
    "    # max_sample = 1 \n",
    "    \n",
    "    print(\"\")\n",
    "    # For loop to get the heatmap for each matrix\n",
    "    for nth_sample in range(0, max_sample):\n",
    "        print(\"Getting the heatmap for the data: sample \" + str(nth_sample + 1) + \"/\" + str(max_sample))\n",
    "        heatmap = get_heatmap_matrix(data, model, nth_sample, layer, verbose = False)\n",
    "\n",
    "        # Making sure that the shape is correct which is (1, 4034)\n",
    "        print(\"Heatmap size:\" + str(heatmap.shape))\n",
    "\n",
    "        # Put all of the reults together\n",
    "        result.append(heatmap)\n",
    "        \n",
    "        # Free memory\n",
    "        gc.collect()\n",
    "\n",
    "    # Change the list to numpy array\n",
    "    all_matrices = np.array(result)\n",
    "\n",
    "    # Get sum of all matrices\n",
    "    sum_all_matrices = np.sum(all_matrices, axis = 0)\n",
    "\n",
    "    # Save the sum of all matrices\n",
    "    saving_path = \"results/sum_all_matrices_\" + pathogen_class + \"_\" + data_name + \"_\" + layer + \".npy\"\n",
    "\n",
    "    print(\"\")\n",
    "    print(\"Saving results in\", saving_path)\n",
    "    np.save(saving_path, sum_all_matrices)"
   ]
  },
  {
   "cell_type": "markdown",
   "metadata": {},
   "source": [
    "## Load all of the model"
   ]
  },
  {
   "cell_type": "code",
   "execution_count": 7,
   "metadata": {},
   "outputs": [
    {
     "name": "stdout",
     "output_type": "stream",
     "text": [
      "WARNING:tensorflow:From /usr/local/Caskroom/miniconda/base/envs/tensorflow-test/lib/python3.7/site-packages/tensorflow_core/python/ops/resource_variable_ops.py:1630: calling BaseResourceVariable.__init__ (from tensorflow.python.ops.resource_variable_ops) with constraint is deprecated and will be removed in a future version.\n",
      "Instructions for updating:\n",
      "If using Keras pass *_constraint arguments to layers.\n"
     ]
    }
   ],
   "source": [
    "# model_cnn_gru_bacteria = load_model(\"models/bacteria/cnn-gru/sequential_1.30-0.27.hdf5\")\n",
    "# model_cnn_gru_fungi = load_model(\"models/fungi/cnn-gru/sequential_1.30-0.27.hdf5\")\n",
    "model = load_model(\"models/fungi/cnn-lstm/model_1.30-0.28.hdf5\")\n",
    "# model_cnn_gru_oomycete = load_model(\"models/oomycete/cnn-gru/sequential_1.30-0.37.hdf5\")"
   ]
  },
  {
   "cell_type": "code",
   "execution_count": 8,
   "metadata": {},
   "outputs": [
    {
     "name": "stdout",
     "output_type": "stream",
     "text": [
      "Model: \"model_1\"\n",
      "__________________________________________________________________________________________________\n",
      "Layer (type)                    Output Shape         Param #     Connected to                     \n",
      "==================================================================================================\n",
      "input_1 (InputLayer)            [(None, 4034, 20)]   0                                            \n",
      "__________________________________________________________________________________________________\n",
      "conv1d_1 (Conv1D)               (None, 4034, 4)      80          input_1[0][0]                    \n",
      "__________________________________________________________________________________________________\n",
      "conv1d_2 (Conv1D)               (None, 4032, 4)      240         input_1[0][0]                    \n",
      "__________________________________________________________________________________________________\n",
      "conv1d_3 (Conv1D)               (None, 4030, 4)      400         input_1[0][0]                    \n",
      "__________________________________________________________________________________________________\n",
      "batch_normalization_1 (BatchNor (None, 4034, 4)      16          conv1d_1[0][0]                   \n",
      "__________________________________________________________________________________________________\n",
      "batch_normalization_2 (BatchNor (None, 4032, 4)      16          conv1d_2[0][0]                   \n",
      "__________________________________________________________________________________________________\n",
      "batch_normalization_3 (BatchNor (None, 4030, 4)      16          conv1d_3[0][0]                   \n",
      "__________________________________________________________________________________________________\n",
      "activation_1 (Activation)       (None, 4034, 4)      0           batch_normalization_1[0][0]      \n",
      "__________________________________________________________________________________________________\n",
      "activation_2 (Activation)       (None, 4032, 4)      0           batch_normalization_2[0][0]      \n",
      "__________________________________________________________________________________________________\n",
      "activation_3 (Activation)       (None, 4030, 4)      0           batch_normalization_3[0][0]      \n",
      "__________________________________________________________________________________________________\n",
      "concatenate_1 (Concatenate)     (None, 12096, 4)     0           activation_1[0][0]               \n",
      "                                                                 activation_2[0][0]               \n",
      "                                                                 activation_3[0][0]               \n",
      "__________________________________________________________________________________________________\n",
      "conv1d_4 (Conv1D)               (None, 12094, 8)     104         concatenate_1[0][0]              \n",
      "__________________________________________________________________________________________________\n",
      "lstm_1 (LSTM)                   (None, 8)            544         conv1d_4[0][0]                   \n",
      "__________________________________________________________________________________________________\n",
      "lstm_2 (LSTM)                   (None, 8)            544         conv1d_4[0][0]                   \n",
      "__________________________________________________________________________________________________\n",
      "concatenate_2 (Concatenate)     (None, 16)           0           lstm_1[0][0]                     \n",
      "                                                                 lstm_2[0][0]                     \n",
      "__________________________________________________________________________________________________\n",
      "dense_1 (Dense)                 (None, 8)            136         concatenate_2[0][0]              \n",
      "__________________________________________________________________________________________________\n",
      "dropout_1 (Dropout)             (None, 8)            0           dense_1[0][0]                    \n",
      "__________________________________________________________________________________________________\n",
      "dense_2 (Dense)                 (None, 1)            9           dropout_1[0][0]                  \n",
      "==================================================================================================\n",
      "Total params: 2,105\n",
      "Trainable params: 2,081\n",
      "Non-trainable params: 24\n",
      "__________________________________________________________________________________________________\n"
     ]
    }
   ],
   "source": [
    "model.summary()"
   ]
  },
  {
   "cell_type": "code",
   "execution_count": 9,
   "metadata": {},
   "outputs": [
    {
     "name": "stdout",
     "output_type": "stream",
     "text": [
      "Loading data: x_test from data-sets/fungi/x_test.npy\n",
      "\n",
      "Getting the heatmap for the data: sample 1/44\n",
      "Heatmap size:(1, 12094)\n",
      "Getting the heatmap for the data: sample 2/44\n",
      "Heatmap size:(1, 12094)\n",
      "Getting the heatmap for the data: sample 3/44\n",
      "Heatmap size:(1, 12094)\n",
      "Getting the heatmap for the data: sample 4/44\n",
      "Heatmap size:(1, 12094)\n",
      "Getting the heatmap for the data: sample 5/44\n",
      "Heatmap size:(1, 12094)\n",
      "Getting the heatmap for the data: sample 6/44\n",
      "Heatmap size:(1, 12094)\n",
      "Getting the heatmap for the data: sample 7/44\n",
      "Heatmap size:(1, 12094)\n",
      "Getting the heatmap for the data: sample 8/44\n",
      "Heatmap size:(1, 12094)\n",
      "Getting the heatmap for the data: sample 9/44\n",
      "Heatmap size:(1, 12094)\n",
      "Getting the heatmap for the data: sample 10/44\n",
      "Heatmap size:(1, 12094)\n",
      "Getting the heatmap for the data: sample 11/44\n",
      "Heatmap size:(1, 12094)\n",
      "Getting the heatmap for the data: sample 12/44\n",
      "Heatmap size:(1, 12094)\n",
      "Getting the heatmap for the data: sample 13/44\n",
      "Heatmap size:(1, 12094)\n",
      "Getting the heatmap for the data: sample 14/44\n",
      "Heatmap size:(1, 12094)\n",
      "Getting the heatmap for the data: sample 15/44\n",
      "Heatmap size:(1, 12094)\n",
      "Getting the heatmap for the data: sample 16/44\n",
      "Heatmap size:(1, 12094)\n",
      "Getting the heatmap for the data: sample 17/44\n",
      "Heatmap size:(1, 12094)\n",
      "Getting the heatmap for the data: sample 18/44\n",
      "Heatmap size:(1, 12094)\n",
      "Getting the heatmap for the data: sample 19/44\n",
      "Heatmap size:(1, 12094)\n",
      "Getting the heatmap for the data: sample 20/44\n",
      "Heatmap size:(1, 12094)\n",
      "Getting the heatmap for the data: sample 21/44\n",
      "Heatmap size:(1, 12094)\n",
      "Getting the heatmap for the data: sample 22/44\n",
      "Heatmap size:(1, 12094)\n",
      "Getting the heatmap for the data: sample 23/44\n",
      "Heatmap size:(1, 12094)\n",
      "Getting the heatmap for the data: sample 24/44\n",
      "Heatmap size:(1, 12094)\n",
      "Getting the heatmap for the data: sample 25/44\n",
      "Heatmap size:(1, 12094)\n",
      "Getting the heatmap for the data: sample 26/44\n",
      "Heatmap size:(1, 12094)\n",
      "Getting the heatmap for the data: sample 27/44\n",
      "Heatmap size:(1, 12094)\n",
      "Getting the heatmap for the data: sample 28/44\n",
      "Heatmap size:(1, 12094)\n",
      "Getting the heatmap for the data: sample 29/44\n",
      "Heatmap size:(1, 12094)\n",
      "Getting the heatmap for the data: sample 30/44\n",
      "Heatmap size:(1, 12094)\n",
      "Getting the heatmap for the data: sample 31/44\n",
      "Heatmap size:(1, 12094)\n",
      "Getting the heatmap for the data: sample 32/44\n",
      "Heatmap size:(1, 12094)\n",
      "Getting the heatmap for the data: sample 33/44\n",
      "Heatmap size:(1, 12094)\n",
      "Getting the heatmap for the data: sample 34/44\n",
      "Heatmap size:(1, 12094)\n",
      "Getting the heatmap for the data: sample 35/44\n",
      "Heatmap size:(1, 12094)\n",
      "Getting the heatmap for the data: sample 36/44\n",
      "Heatmap size:(1, 12094)\n",
      "Getting the heatmap for the data: sample 37/44\n",
      "Heatmap size:(1, 12094)\n",
      "Getting the heatmap for the data: sample 38/44\n",
      "Heatmap size:(1, 12094)\n",
      "Getting the heatmap for the data: sample 39/44\n",
      "Heatmap size:(1, 12094)\n",
      "Getting the heatmap for the data: sample 40/44\n",
      "Heatmap size:(1, 12094)\n",
      "Getting the heatmap for the data: sample 41/44\n",
      "Heatmap size:(1, 12094)\n",
      "Getting the heatmap for the data: sample 42/44\n",
      "Heatmap size:(1, 12094)\n",
      "Getting the heatmap for the data: sample 43/44\n",
      "Heatmap size:(1, 12094)\n",
      "Getting the heatmap for the data: sample 44/44\n",
      "Heatmap size:(1, 12094)\n",
      "\n",
      "Saving results in results/sum_all_matrices_fungi_x_test_conv1d_4.npy\n"
     ]
    }
   ],
   "source": [
    "# bacteria \n",
    "# get_sum_heatmap(\"bacteria\", \"x_train\", model_cnn_gru_bacteria, \"conv1d_1\")\n",
    "# get_sum_heatmap(\"bacteria\", \"x_val\", model_cnn_gru_bacteria, \"conv1d_1\")\n",
    "# get_sum_heatmap(\"bacteria\", \"x_test\", model_cnn_gru_bacteria, \"conv1d_1\")\n",
    "get_sum_heatmap(\"fungi\", \"x_test\", model, \"conv1d_4\")"
   ]
  },
  {
   "cell_type": "code",
   "execution_count": null,
   "metadata": {},
   "outputs": [],
   "source": []
  }
 ],
 "metadata": {
  "kernelspec": {
   "display_name": "Tensorflow 2",
   "language": "python",
   "name": "tensorflow2"
  },
  "language_info": {
   "codemirror_mode": {
    "name": "ipython",
    "version": 3
   },
   "file_extension": ".py",
   "mimetype": "text/x-python",
   "name": "python",
   "nbconvert_exporter": "python",
   "pygments_lexer": "ipython3",
   "version": "3.7.5"
  }
 },
 "nbformat": 4,
 "nbformat_minor": 4
}
